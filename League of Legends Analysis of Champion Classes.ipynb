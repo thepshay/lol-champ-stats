{
 "cells": [
  {
   "cell_type": "markdown",
   "metadata": {},
   "source": [
    "# League of Legends Exploration of Champion Classes "
   ]
  },
  {
   "cell_type": "markdown",
   "metadata": {},
   "source": [
    "League of Legends features a large roster of champions (155 as of current patch 11.3), each designed to fill a specific play style or role in a team. Despite the variations, theses each of these champions can be separated into 7 different primary classes and a total of 13 subclasses. \n",
    "1. Controller<br>\n",
    "    1.1 Enchanter<br>\n",
    "    1.2 Catcher<br>\n",
    "2. Fighter<br>\n",
    "    2.1 Juggernaut<br>\n",
    "    2.2 Diver<br>\n",
    "3. Mage<br>\n",
    "    3.1 Burst<br>\n",
    "    3.2 Battlemage<br>\n",
    "    3.3 Artillery<br>\n",
    "4. Marksman<br>\n",
    "5. Slayer<br>\n",
    "    5.1 Assassin<br>\n",
    "    5.2 Skirmisher<br>\n",
    "6. Tank<br>\n",
    "    6.1 Vanguard<br>\n",
    "    6.2 Warden<br>\n",
    "7. Specialist<br>\n",
    "\n",
    "In this analysis, we will be taking a look at the distribution of champions stats among classes. \n",
    "\n",
    "We will be using data scraped form the [League of Legends Wiki](https://leagueoflegends.fandom.com/wiki/League_of_Legends_Wiki). The web scraping code and the datasets can be both found in the folder. It is currently Patch 12.3, with 158 champions released and the latest champion is Zeri. "
   ]
  },
  {
   "cell_type": "markdown",
   "metadata": {},
   "source": [
    "# Datasets"
   ]
  },
  {
   "cell_type": "code",
   "execution_count": 2,
   "metadata": {},
   "outputs": [
    {
     "ename": "ModuleNotFoundError",
     "evalue": "No module named 'plotly'",
     "output_type": "error",
     "traceback": [
      "\u001b[1;31m---------------------------------------------------------------------------\u001b[0m",
      "\u001b[1;31mModuleNotFoundError\u001b[0m                       Traceback (most recent call last)",
      "\u001b[1;32m~\\AppData\\Local\\Temp/ipykernel_21792/709455056.py\u001b[0m in \u001b[0;36m<module>\u001b[1;34m\u001b[0m\n\u001b[0;32m      4\u001b[0m \u001b[1;32mimport\u001b[0m \u001b[0mseaborn\u001b[0m \u001b[1;32mas\u001b[0m \u001b[0msns\u001b[0m\u001b[1;33m\u001b[0m\u001b[1;33m\u001b[0m\u001b[0m\n\u001b[0;32m      5\u001b[0m \u001b[1;32mfrom\u001b[0m \u001b[0mitertools\u001b[0m \u001b[1;32mimport\u001b[0m \u001b[0mcycle\u001b[0m\u001b[1;33m\u001b[0m\u001b[1;33m\u001b[0m\u001b[0m\n\u001b[1;32m----> 6\u001b[1;33m \u001b[1;32mfrom\u001b[0m \u001b[0mplotly\u001b[0m\u001b[1;33m.\u001b[0m\u001b[0mfigure_factory\u001b[0m \u001b[1;32mimport\u001b[0m \u001b[0mcreate_table\u001b[0m\u001b[1;33m\u001b[0m\u001b[1;33m\u001b[0m\u001b[0m\n\u001b[0m",
      "\u001b[1;31mModuleNotFoundError\u001b[0m: No module named 'plotly'"
     ]
    }
   ],
   "source": [
    "import numpy as np\n",
    "import pandas as pd\n",
    "import matplotlib.pyplot as plt\n",
    "import seaborn as sns\n",
    "from itertools import cycle\n",
    "from plotly.figure_factory import create_table"
   ]
  },
  {
   "cell_type": "code",
   "execution_count": null,
   "metadata": {},
   "outputs": [],
   "source": [
    "pd.set_option('display.max_columns', None)\n",
    "pd.set_option('display.max_rows', None)"
   ]
  },
  {
   "cell_type": "markdown",
   "metadata": {},
   "source": [
    "## Champions Dataset"
   ]
  },
  {
   "cell_type": "code",
   "execution_count": null,
   "metadata": {},
   "outputs": [],
   "source": [
    "champ = pd.read_csv('champions.csv')\n",
    "champ.head()"
   ]
  },
  {
   "cell_type": "code",
   "execution_count": null,
   "metadata": {
    "scrolled": false
   },
   "outputs": [],
   "source": [
    "champ.info()"
   ]
  },
  {
   "cell_type": "markdown",
   "metadata": {},
   "source": [
    "- `name` -  Champion name\n",
    "- `description` - Champion Description/Nickname\n",
    "- `href` - Link to wiki page\n",
    "- `class` - Champion class\n",
    "- `release_date` - Champion release date\n",
    "- `last_changed` - Last time champion was changed (ie. nerfs, buffs) \n",
    "- `be_cost` - Blue Essence cost\n",
    "- `rp_cost` - RP cost"
   ]
  },
  {
   "cell_type": "markdown",
   "metadata": {},
   "source": [
    "### Separating Subclass"
   ]
  },
  {
   "cell_type": "code",
   "execution_count": null,
   "metadata": {},
   "outputs": [],
   "source": [
    "champ['class'].unique()"
   ]
  },
  {
   "cell_type": "markdown",
   "metadata": {},
   "source": [
    "The current data has 24 unique classes and 11 of these classes are combination of two different classes. We will be separating these dual classes into `subclass_1` and `subclass_2`."
   ]
  },
  {
   "cell_type": "code",
   "execution_count": null,
   "metadata": {},
   "outputs": [],
   "source": [
    "champ[['subclass_1', 'subclass_2']] = champ['class'].str.split(',',1, expand=True)\n",
    "champ.head()"
   ]
  },
  {
   "cell_type": "code",
   "execution_count": null,
   "metadata": {
    "scrolled": true
   },
   "outputs": [],
   "source": [
    "champ['subclass_1'].unique()"
   ]
  },
  {
   "cell_type": "markdown",
   "metadata": {},
   "source": [
    "### Adding Primary Classes"
   ]
  },
  {
   "cell_type": "markdown",
   "metadata": {},
   "source": [
    "   Since majority of the champions do not have a subclass, we will match a champion's primary class to `subclass_1`. "
   ]
  },
  {
   "cell_type": "code",
   "execution_count": null,
   "metadata": {},
   "outputs": [],
   "source": [
    "controller = ['Enchanter', 'Catcher']\n",
    "fighter = ['Juggernaut', 'Diver']\n",
    "mage = ['Burst', 'Battlemage', 'Artillery']\n",
    "marksman = ['Marksman']\n",
    "slayer = ['Assassin', 'Skirmisher']\n",
    "tank = ['Vanguard', 'Warden']\n",
    "specialist = ['Specialist']\n",
    "\n",
    "def assign_primary(subclass):\n",
    "    if subclass in controller:\n",
    "        return 'Controller'\n",
    "    if subclass in fighter:\n",
    "        return 'Fighter'\n",
    "    if subclass in mage:\n",
    "        return 'Mage'\n",
    "    if subclass in marksman:\n",
    "        return 'Marksman'\n",
    "    if subclass in slayer:\n",
    "        return 'Slayer'\n",
    "    if subclass in tank:\n",
    "        return 'Tank'\n",
    "    if subclass in specialist:\n",
    "        return 'Specialist'\n",
    "    \n",
    "champ['primary_class']= champ['subclass_1'].apply(assign_primary)\n",
    "champ.head()"
   ]
  },
  {
   "cell_type": "markdown",
   "metadata": {},
   "source": [
    "## Champion Stat"
   ]
  },
  {
   "cell_type": "code",
   "execution_count": null,
   "metadata": {},
   "outputs": [],
   "source": [
    "stat = pd.read_csv('champion_stats.csv')\n",
    "stat.head()"
   ]
  },
  {
   "cell_type": "code",
   "execution_count": null,
   "metadata": {
    "scrolled": false
   },
   "outputs": [],
   "source": [
    "stat.info()"
   ]
  },
  {
   "cell_type": "markdown",
   "metadata": {},
   "source": [
    "- `Champions` - Champion name\n",
    "- `HP` - Level 1 HP\n",
    "- `HP+` - HP gained per level\n",
    "- `HP5` - HP regeneration per 5 seconds \n",
    "- `HP5+`- HP regeneration gained per level\n",
    "- `MP` - Level 1 Mana Pool\n",
    "- `MP+` - MP gained per level\n",
    "- `MP5` - Mana regeneration per 5 seconds \n",
    "- `MP5+`- Mana regeneration gained per level\n",
    "- `AD` - Level 1 Attack Damage\n",
    "- `AD+` - AD gained per level\n",
    "- `AS` - Level 1 Attack Speed\n",
    "- `AS+` - Percent AS gained per level\n",
    "- `AR` - Level 1 Armor\n",
    "- `AR+` - Armor gained per level\n",
    "- `MR` - Level 1 Magic Resist\n",
    "- `MR+` - MR gained per level\n",
    "- `MS` - Movement Speed\n",
    "- `Range` - Champion range\n",
    "\n",
    "Note that MS (Movement Speed) and Range are static and do not increase per level. "
   ]
  },
  {
   "cell_type": "markdown",
   "metadata": {},
   "source": [
    "### Converting AS to float"
   ]
  },
  {
   "cell_type": "markdown",
   "metadata": {},
   "source": [
    "We are not missing any columns, but we want to make sure all of the stats into float values so it is easier to analyze. Thus we will be converting `AS+` into a float. "
   ]
  },
  {
   "cell_type": "code",
   "execution_count": null,
   "metadata": {},
   "outputs": [],
   "source": [
    "stat['AS+'].head(5)"
   ]
  },
  {
   "cell_type": "code",
   "execution_count": null,
   "metadata": {},
   "outputs": [],
   "source": [
    "stat['AS+'] = stat['AS+'].str.strip('%+').astype(float)\n",
    "stat['AS+'].head(5)"
   ]
  },
  {
   "cell_type": "code",
   "execution_count": null,
   "metadata": {},
   "outputs": [],
   "source": [
    "stat.info()"
   ]
  },
  {
   "cell_type": "markdown",
   "metadata": {},
   "source": [
    "### Mismatch Number of Rows "
   ]
  },
  {
   "cell_type": "code",
   "execution_count": null,
   "metadata": {},
   "outputs": [],
   "source": [
    "print(champ.shape)\n",
    "print(stat.shape)"
   ]
  },
  {
   "cell_type": "markdown",
   "metadata": {},
   "source": [
    "When comparing the size of the two datasets, we see that `champ` has 155 rows and `stat` has 157 rows. There are currently 155 champions released, so we want to see where the extra 2 rows come form.  "
   ]
  },
  {
   "cell_type": "code",
   "execution_count": null,
   "metadata": {},
   "outputs": [],
   "source": [
    "stat['Champions'] = stat['Champions'].str.strip()\n",
    "champ['name'] = champ['name'].str.strip()\n",
    "\n",
    "missing = stat.merge(champ, left_on='Champions', right_on ='name', how='outer')\n",
    "missing[missing['name'].isna()]"
   ]
  },
  {
   "cell_type": "markdown",
   "metadata": {},
   "source": [
    "There are 2 values from `stat` that is not in `champ`. \n",
    "- Kled & Skaarl\n",
    "- Mega Gnar"
   ]
  },
  {
   "cell_type": "code",
   "execution_count": null,
   "metadata": {},
   "outputs": [],
   "source": [
    "stat[(stat['Champions'] == 'Kled') | (stat['Champions'] == 'Kled & Skaarl')]"
   ]
  },
  {
   "cell_type": "code",
   "execution_count": null,
   "metadata": {},
   "outputs": [],
   "source": [
    "stat[(stat['Champions'] == 'Gnar') | (stat['Champions'] == 'Mega Gnar')]"
   ]
  },
  {
   "cell_type": "markdown",
   "metadata": {},
   "source": [
    "These two are special cases where the same champion have two different forms and two different base stats. As of now, we will leave it alone. "
   ]
  },
  {
   "cell_type": "markdown",
   "metadata": {},
   "source": [
    "## Number of Primary Classes and Subclasses"
   ]
  },
  {
   "cell_type": "markdown",
   "metadata": {},
   "source": [
    "### Primary Classes"
   ]
  },
  {
   "cell_type": "code",
   "execution_count": null,
   "metadata": {
    "scrolled": false
   },
   "outputs": [],
   "source": [
    "fig, ax = plt.subplots(figsize=(13, 5))\n",
    "ax = sns.countplot(\n",
    "    y='primary_class', \n",
    "    data=champ, \n",
    "    order=champ['primary_class'].value_counts().index, \n",
    "    palette='husl')\n",
    "\n",
    "count = list(champ['primary_class'].value_counts())\n",
    "\n",
    "for p, c in zip(ax.patches, count):\n",
    "    percentage = '{:.1f}%'.format(100 * p.get_width()/len(champ))\n",
    "    x = p.get_x() + p.get_width() + .1\n",
    "    y = p.get_y() + p.get_height()/2 + .1\n",
    "    ax.annotate(f'{percentage} ({c})', (x, y))\n",
    "    \n",
    "ax.set_title('Number of Priamry Classes', fontsize = 15)\n",
    "ax.set_xlabel('Number of Champions')\n",
    "ax.set_ylabel('Primary Class')\n",
    "ax.set_xlim(0, 33)\n",
    "\n",
    "plt.show()"
   ]
  },
  {
   "cell_type": "markdown",
   "metadata": {},
   "source": [
    "- Mage is the most popular primary class type followed by Fighter and Slayer\n",
    "- Specialist and Controller are the least common class with 14 each. "
   ]
  },
  {
   "cell_type": "code",
   "execution_count": null,
   "metadata": {
    "scrolled": false
   },
   "outputs": [],
   "source": [
    "fig, ax = plt.subplots(figsize=(13, 8))\n",
    "ax = sns.countplot(\n",
    "    y='subclass_1', \n",
    "    data=champ, \n",
    "    order=champ['subclass_1'].value_counts().index, \n",
    "    palette='husl')\n",
    "\n",
    "count = list(champ['subclass_1'].value_counts())\n",
    "\n",
    "for p,c in zip(ax.patches, count):\n",
    "    percentage = '{:.1f}%'.format(100 * p.get_width()/len(champ))\n",
    "    x = p.get_x() + p.get_width() + .1\n",
    "    y = p.get_y() + p.get_height()/2 + .1\n",
    "    ax.annotate(f'{percentage} ({c})', (x, y))\n",
    "    \n",
    "    \n",
    "ax.set_title('Number of Subclasses', fontsize = 15)\n",
    "ax.set_xlabel('Number of Champions')\n",
    "ax.set_ylabel('Subclass')\n",
    "ax.set_xlim(0, 25)\n",
    "\n",
    "\n",
    "plt.show()"
   ]
  },
  {
   "cell_type": "markdown",
   "metadata": {},
   "source": [
    "- Marksman is by far the most common with 22, but this is partly because marksman does not have any subclasses\n",
    "- Same idea applies to Specialist in the top half with 14.\n",
    "- Warden and Artillery are by far least common with 5 and 4 respectively. \n",
    "- The mean number of champions in each subclass is 11.9"
   ]
  },
  {
   "cell_type": "markdown",
   "metadata": {},
   "source": [
    "## Overview of Champion and Class Stats"
   ]
  },
  {
   "cell_type": "markdown",
   "metadata": {},
   "source": [
    "We will be working with the subclass for the stats as primary class can span different playstyles despite being in the same class. An example of this would be Controller, where enchanter serve the role healers/shelders while catchers are more akin to tanks. \n",
    "\n",
    "We will once again use subclass_1 for this analysis since only 13 out of the 155 total champions have secondary subclass."
   ]
  },
  {
   "cell_type": "code",
   "execution_count": null,
   "metadata": {},
   "outputs": [],
   "source": [
    "champ['subclass_2'].notna().value_counts()"
   ]
  },
  {
   "cell_type": "code",
   "execution_count": null,
   "metadata": {},
   "outputs": [],
   "source": [
    "# Combining the champ and stat dataset by name\n",
    "champ_stat = stat.merge(\n",
    "    champ[['name', 'subclass_1']], \n",
    "    how='left',\n",
    "    left_on='Champions',\n",
    "    right_on='name')\n",
    "champ_stat.drop('name', axis=1, inplace=True)\n",
    "\n",
    "champ_stat.head()"
   ]
  },
  {
   "cell_type": "code",
   "execution_count": null,
   "metadata": {
    "scrolled": true
   },
   "outputs": [],
   "source": [
    "champ_stat.info()"
   ]
  },
  {
   "cell_type": "markdown",
   "metadata": {},
   "source": [
    "We have two missing values for `subclass_1`. This is due to Kled & Skaarl and Mega Gnar, so we will manually add them in, making the subclass the same as their counterparts, (Kled and Gnar)."
   ]
  },
  {
   "cell_type": "code",
   "execution_count": null,
   "metadata": {},
   "outputs": [],
   "source": [
    "champ_stat.loc[champ_stat['Champions'] == 'Kled & Skaarl', 'subclass_1'] = 'Skirmisher'\n",
    "champ_stat.loc[champ_stat['Champions'] == 'Mega Gnar', 'subclass_1'] = 'Specialist'"
   ]
  },
  {
   "cell_type": "markdown",
   "metadata": {},
   "source": [
    "To make this analysis easier, we also add max level (18) to the dataset. "
   ]
  },
  {
   "cell_type": "code",
   "execution_count": null,
   "metadata": {},
   "outputs": [],
   "source": [
    "champ_stat['HP_18'] = champ_stat['HP'] + (champ_stat['HP+'] * 17)\n",
    "champ_stat['HP5_18'] = champ_stat['HP5'] + (champ_stat['HP5+'] * 17)\n",
    "champ_stat['MP_18'] = champ_stat['MP'] + (champ_stat['MP+'] * 17)\n",
    "champ_stat['MP5_18'] = champ_stat['MP5'] + (champ_stat['MP5+'] * 17)\n",
    "champ_stat['AD_18'] = champ_stat['AD'] + (champ_stat['AD+'] * 17)\n",
    "champ_stat['AR_18'] = champ_stat['AR'] + (champ_stat['AR+'] * 17)\n",
    "champ_stat['MR_18'] = champ_stat['MR'] + (champ_stat['MR+'] * 17)\n",
    "champ_stat.head()"
   ]
  },
  {
   "cell_type": "code",
   "execution_count": null,
   "metadata": {},
   "outputs": [],
   "source": [
    "champ_stat['AS_18'] = champ_stat['AS']*(1+((champ_stat['AS+']/100) *17))\n",
    "champ_stat.head()"
   ]
  },
  {
   "cell_type": "markdown",
   "metadata": {},
   "source": [
    "### Linear Correlation Between Stats"
   ]
  },
  {
   "cell_type": "code",
   "execution_count": null,
   "metadata": {},
   "outputs": [],
   "source": [
    "stat_list = ['HP', 'HP_18', 'HP5', 'HP5_18', 'MP', 'MP_18', 'MP5', 'MP5_18',\n",
    "       'AD', 'AD_18', 'AS', 'AS_18', 'AR', 'AR_18', 'MR', 'MR_18', 'MS', 'Range']\n",
    "\n",
    "mask = np.triu(np.ones_like(champ_stat[stat_list].corr(), dtype=np.bool))\n",
    "\n",
    "fig = plt.figure(figsize=(17,10))\n",
    "ax = sns.heatmap(data = champ_stat[stat_list].corr(), \n",
    "                 vmin=-1, \n",
    "                 vmax=1, \n",
    "                 cmap='vlag_r',\n",
    "                 mask=mask,\n",
    "                annot=True)\n",
    "plt.show()"
   ]
  },
  {
   "cell_type": "markdown",
   "metadata": {},
   "source": [
    "- Stats HP, HP5, MP, MP5, AD, AS, AR, MR are unsurprisingly correlated with their level 18 counterpart. \n",
    "- Range has negative correlation with almost all other Stats. This is likely because Range is such a strong stat and other stats will be lowered to compensate. \n",
    "- Range also has strong negative correlation with Armor and MR "
   ]
  },
  {
   "cell_type": "markdown",
   "metadata": {},
   "source": [
    "# Analysis of Champion Stats"
   ]
  },
  {
   "cell_type": "markdown",
   "metadata": {},
   "source": [
    "##### Methods"
   ]
  },
  {
   "cell_type": "code",
   "execution_count": null,
   "metadata": {},
   "outputs": [],
   "source": [
    "# Creates a sino plot alongside a histogram \n",
    "def sino_hist(gs_sino, gs2_hist, data, x, y, s=5, order = None, palette=None, bins=15):\n",
    "    # Create sino plot using swarmplot and violinplot\n",
    "    ax_sino = fig.add_subplot(gs_sino)\n",
    "    ax_sino = sns.swarmplot(x=x,\n",
    "                            y=y,\n",
    "                            data=data,\n",
    "                            color='k',\n",
    "                            order = order,\n",
    "                            s=s)\n",
    "    \n",
    "    ax_sino = sns.violinplot(x=x,\n",
    "                             y=y,\n",
    "                             data=data,\n",
    "                             palette = palette,\n",
    "                             order = order, \n",
    "                             cut = 0)\n",
    "    \n",
    "    # Create histogram\n",
    "    ax_histx = fig.add_subplot(gs2_hist)\n",
    "    ax_histx = sns.histplot(y=y,\n",
    "                  data=data,\n",
    "                  bins=bins)\n",
    "    \n",
    "    # Set labels and parameters\n",
    "    ax_histx.set_ylim(ax_sino.get_ylim())\n",
    "#     ax_histx.tick_params(direction='in', labelleft=False)\n",
    "    ax_histx.set_ylabel('')\n",
    "        \n",
    "    return ax_sino, ax_histx\n",
    "\n",
    "\n",
    "# Create dashed line at the mean of distribution\n",
    "def mean_line(data, y, ax, label=None, color = 'red'):\n",
    "    mean = np.mean(data[y])\n",
    "    ax.axhline(y=mean,\n",
    "               color=color,\n",
    "               label = f'{label} ({mean:.2f})',\n",
    "               alpha=0.5, \n",
    "               linestyle='--')\n",
    "    if label != None:\n",
    "        ax.legend()\n",
    "    \n",
    "\n",
    "# Sets the xlim of two graphs to the one with bigger range\n",
    "def set_xlim(ax, ax_18):\n",
    "    if ax.get_xlim()[1] > ax_18.get_xlim()[1]:\n",
    "        ax_18.set_xlim(ax.get_xlim())\n",
    "    else:\n",
    "        ax.set_xlim(ax_18.get_xlim())\n",
    "        \n",
    "sorted_subclass = sorted(pd.unique(champ_stat['subclass_1']))\n",
    "color = sns.color_palette(\"hls\", 13)"
   ]
  },
  {
   "cell_type": "markdown",
   "metadata": {},
   "source": [
    "## HP"
   ]
  },
  {
   "cell_type": "code",
   "execution_count": null,
   "metadata": {
    "scrolled": false
   },
   "outputs": [],
   "source": [
    "# Create figure\n",
    "fig = plt.figure(figsize=(17, 15))\n",
    "gs = fig.add_gridspec(2, 6, wspace = 0.05, hspace=0.15)\n",
    "\n",
    "# Graph distribution of level 1 HP\n",
    "ax_sino, ax_histx= sino_hist(\n",
    "                     gs_sino = gs[0,0:5],\n",
    "                     gs2_hist = gs[0,5],\n",
    "                     data=champ_stat,\n",
    "                     x='subclass_1', \n",
    "                     y='HP',\n",
    "                     order = sorted_subclass,\n",
    "                     palette = color)\n",
    "mean_line(data=champ_stat,\n",
    "               y = 'HP',\n",
    "               label = f'Mean Level 1 HP', \n",
    "               ax = ax_sino)\n",
    "mean_line(data=champ_stat,\n",
    "               y = 'HP',\n",
    "               ax = ax_histx)\n",
    "\n",
    "# Graph distribution of level 18 HP\n",
    "ax_sino18, ax_histx18= sino_hist(\n",
    "                     gs_sino = gs[1,0:5],\n",
    "                     gs2_hist = gs[1,5],\n",
    "                     data=champ_stat,\n",
    "                     x='subclass_1', \n",
    "                     y='HP_18',\n",
    "                     order = sorted_subclass,\n",
    "                     palette = color)\n",
    "mean_line(data=champ_stat,\n",
    "               y = 'HP_18',\n",
    "               label = 'Mean Level 18 HP', \n",
    "               ax = ax_sino18)\n",
    "mean_line(data=champ_stat,\n",
    "               y = 'HP_18',\n",
    "               ax = ax_histx18)\n",
    "\n",
    "# Sett labels and axis\n",
    "ax_sino.set_title('HP Distribution at Level 1')\n",
    "ax_sino.set_xlabel('')\n",
    "ax_sino.set_ylabel('HP')\n",
    "\n",
    "ax_sino18.set_title('HP Distribution at Level 18')\n",
    "ax_sino18.set_xlabel('')\n",
    "ax_sino18.set_ylabel('HP')\n",
    "\n",
    "set_xlim(ax_histx, ax_histx18)\n",
    "\n",
    "plt.show()"
   ]
  },
  {
   "cell_type": "markdown",
   "metadata": {},
   "source": [
    "- There is obvious outlier in Skirmisher. This turns out to be Kled and Kled & Skaarl, with Kled having below mean HP and Kled & Skaarl have above mean HP.\n",
    "- All Enchanter's HP is below mean at level 18.\n",
    "- Juggernaut HP remains above average at level 1 and 18. "
   ]
  },
  {
   "cell_type": "markdown",
   "metadata": {},
   "source": [
    "## HP Regeneration per 5 Second"
   ]
  },
  {
   "cell_type": "code",
   "execution_count": null,
   "metadata": {},
   "outputs": [],
   "source": [
    "# Create figure\n",
    "fig = plt.figure(figsize=(17, 15))\n",
    "gs = fig.add_gridspec(2, 6, wspace = 0.05, hspace=0.15)\n",
    "\n",
    "# Graph distribution of level 1 HP5\n",
    "ax_sino, ax_histx = sino_hist(\n",
    "                     gs_sino = gs[0,0:5],\n",
    "                     gs2_hist = gs[0,5],\n",
    "                     data=champ_stat,\n",
    "                     x='subclass_1', \n",
    "                     y='HP5',\n",
    "                     order = sorted_subclass,\n",
    "                     palette = color)\n",
    "mean_line(data=champ_stat,\n",
    "               y = 'HP5',\n",
    "               label = f'Mean Level 1 HP per 5', \n",
    "               ax = ax_sino)\n",
    "mean_line(data=champ_stat,\n",
    "               y = 'HP5',\n",
    "               ax = ax_histx)\n",
    "\n",
    "\n",
    "# Graph distribution of level 18 HP5\n",
    "ax_sino18, ax_histx18 = sino_hist(\n",
    "                     gs_sino = gs[1,0:5],\n",
    "                     gs2_hist = gs[1,5],\n",
    "                     data=champ_stat,\n",
    "                     x='subclass_1', \n",
    "                     y='HP5_18',\n",
    "                     order = sorted_subclass,\n",
    "                     palette = color)\n",
    "mean_line(data=champ_stat,\n",
    "               y = 'HP5_18',\n",
    "               label = 'Mean Level 18 HP per 5', \n",
    "               ax = ax_sino18)\n",
    "mean_line(data=champ_stat,\n",
    "               y = 'HP5_18',\n",
    "               ax = ax_histx18)\n",
    "\n",
    "# Sett labels and axis\n",
    "ax_sino.set_title('HP Regeneration per 5 Seconds at Level 1')\n",
    "ax_sino.set_xlabel('')\n",
    "ax_sino.set_ylabel('HP per 5')\n",
    "\n",
    "ax_sino18.set_title('HP Regeneration per 5 Seconds at Level 18')\n",
    "ax_sino18.set_xlabel('')\n",
    "ax_sino18.set_ylabel('HP per 5')\n",
    "\n",
    "set_xlim(ax_histx, ax_histx18)\n",
    "\n",
    "plt.show()"
   ]
  },
  {
   "cell_type": "markdown",
   "metadata": {},
   "source": [
    "- All Artillery, Marksman, and Enchanter class have below average HP regeneration at level 18.\n",
    "- At level 1 all Marksman, with the exception of Kindred, have far below average HP regeneration.\n",
    "- Gnar and Mega Gnar has the highest HP5 at level 18 with 34.5 HP per 5 seconds."
   ]
  },
  {
   "cell_type": "markdown",
   "metadata": {},
   "source": [
    "## Mana Pool"
   ]
  },
  {
   "cell_type": "markdown",
   "metadata": {},
   "source": [
    "Mana is the main resource to cast abilities in League of Legends, but there exists a handful of champions that used [alternative resource type](https://leagueoflegends.fandom.com/wiki/Ability_resource) (ie, Energy, Health).\n",
    "\n",
    "Our dataset does not have clear indications on which champions are manaless, but we will use the [wiki](https://leagueoflegends.fandom.com/wiki/Ability_resource) to manually remove these champions. We will also remove Mega Gnar and Kled & Skaarl from the `champ_stat` dataset since they too are manaless."
   ]
  },
  {
   "cell_type": "code",
   "execution_count": null,
   "metadata": {},
   "outputs": [],
   "source": [
    "manaless = ['Aatrox', 'Akali', 'Dr. Mundo', 'Garen', 'Gnar','Mega Gnar', 'Kled & Skaarl', 'Katarina', 'Kennen', 'Kled', 'Lee Sin', 'Mordekaiser', \n",
    "            'Rek\\'Sai', 'Renekton', 'Rengar', 'Riven', 'Rumble', 'Sett', 'Shen', 'Shyvana', 'Tryndamere', 'Viego', \n",
    "           'Vladimir', 'Yasuo', 'Yone', 'Zac', 'Zed']\n",
    "mana_stat = champ_stat[~champ_stat['Champions'].isin(manaless)]"
   ]
  },
  {
   "cell_type": "code",
   "execution_count": null,
   "metadata": {
    "scrolled": false
   },
   "outputs": [],
   "source": [
    "# Create figure\n",
    "fig = plt.figure(figsize=(17, 15))\n",
    "gs = fig.add_gridspec(2, 6, wspace = 0.05, hspace=0.15)\n",
    "\n",
    "# Graph distribution of level 1 MP\n",
    "ax_sino, ax_histx = sino_hist(\n",
    "                     gs_sino = gs[0,0:5],\n",
    "                     gs2_hist = gs[0,5],\n",
    "                     data=mana_stat,\n",
    "                     x='subclass_1', \n",
    "                     y='MP',\n",
    "                     order = sorted_subclass,\n",
    "                     palette = color)\n",
    "mean_line(data=champ_stat,\n",
    "               y = 'MP',\n",
    "               label = f'Mean Level 1 MP', \n",
    "               ax = ax_sino)\n",
    "mean_line(data=champ_stat,\n",
    "               y = 'MP',\n",
    "               ax = ax_histx)\n",
    "\n",
    "\n",
    "# Graph distribution of level 18 MP\n",
    "ax_sino18, ax_histx18 = sino_hist(\n",
    "                     gs_sino = gs[1,0:5],\n",
    "                     gs2_hist = gs[1,5],\n",
    "                     data=mana_stat,\n",
    "                     x='subclass_1', \n",
    "                     y='MP_18',\n",
    "                     order = sorted_subclass,\n",
    "                     palette = color)\n",
    "mean_line(data=champ_stat,\n",
    "               y = 'MP_18',\n",
    "               label = 'Mean Level 18 MP', \n",
    "               ax = ax_sino18)\n",
    "\n",
    "mean_line(data=champ_stat,\n",
    "               y = 'MP_18',\n",
    "               ax = ax_histx18)\n",
    "\n",
    "# Sett labels and axis\n",
    "ax_sino.set_title('Mana Pool (MP) at Level 1')\n",
    "ax_sino.set_xlabel('')\n",
    "ax_sino.set_ylabel('MP')\n",
    "\n",
    "ax_sino18.set_title('Mana Pool (MP) at Level 18')\n",
    "ax_sino18.set_xlabel('')\n",
    "ax_sino18.set_ylabel('MP')\n",
    "\n",
    "set_xlim(ax_histx, ax_histx18)\n",
    "\n",
    "plt.show()"
   ]
  },
  {
   "cell_type": "code",
   "execution_count": null,
   "metadata": {},
   "outputs": [],
   "source": [
    "np.mean(champ_stat['MP_18'])"
   ]
  },
  {
   "cell_type": "markdown",
   "metadata": {},
   "source": [
    "- The range of Mana Pool is quite large at level 18 from 674 to 1879.\n",
    "- Kassadin has the greatest Mana Pool at 1879 and the next highest is Ezreal at 1565.\n",
    "- All Enchanter and Warden have above mean Mana Pool"
   ]
  },
  {
   "cell_type": "markdown",
   "metadata": {},
   "source": [
    "## Mana Regeneration per 5 Second"
   ]
  },
  {
   "cell_type": "code",
   "execution_count": null,
   "metadata": {},
   "outputs": [],
   "source": [
    "# Create figure\n",
    "fig = plt.figure(figsize=(17, 15))\n",
    "gs = fig.add_gridspec(2, 6, wspace = 0.05, hspace=0.15)\n",
    "\n",
    "# Graph distribution of level 1 MP5\n",
    "ax_sino, ax_histx = sino_hist(\n",
    "                     gs_sino = gs[0,0:5],\n",
    "                     gs2_hist = gs[0,5],\n",
    "                     data=mana_stat,\n",
    "                     x='subclass_1', \n",
    "                     y='MP5',\n",
    "                     order = sorted_subclass,\n",
    "                     palette = color,\n",
    "                     s=4)\n",
    "mean_line(data=champ_stat,\n",
    "               y = 'MP5',\n",
    "               label = f'Mean Level 1 Mana per 5', \n",
    "               ax = ax_sino)\n",
    "mean_line(data=champ_stat,\n",
    "               y = 'MP5',\n",
    "               ax = ax_histx)\n",
    "\n",
    "\n",
    "# Graph distribution of level 18 MP5\n",
    "ax_sino18, ax_histx18 = sino_hist(\n",
    "                     gs_sino = gs[1,0:5],\n",
    "                     gs2_hist = gs[1,5],\n",
    "                     data=mana_stat,\n",
    "                     x='subclass_1', \n",
    "                     y='MP5_18',\n",
    "                     order = sorted_subclass,\n",
    "                     palette = color)\n",
    "mean_line(data=champ_stat,\n",
    "               y = 'MP5_18',\n",
    "               label = 'Mean Level 18 Mana per 5', \n",
    "               ax = ax_sino18)\n",
    "mean_line(data=champ_stat,\n",
    "               y = 'MP5_18',\n",
    "               ax = ax_histx18)\n",
    "\n",
    "# Sett labels and axis\n",
    "ax_sino.set_title('Mana Regeneration per 5 Seconds at Level 1')\n",
    "ax_sino.set_xlabel('')\n",
    "ax_sino.set_ylabel('Mana per 5')\n",
    "\n",
    "ax_sino18.set_title('Mana Regeneration per 5 Seconds at Level 18')\n",
    "ax_sino18.set_xlabel('')\n",
    "ax_sino18.set_ylabel('Mana per 5')\n",
    "\n",
    "set_xlim(ax_histx, ax_histx18)\n",
    "\n",
    "plt.show()"
   ]
  },
  {
   "cell_type": "markdown",
   "metadata": {},
   "source": [
    "## Attack Damage "
   ]
  },
  {
   "cell_type": "code",
   "execution_count": null,
   "metadata": {
    "scrolled": false
   },
   "outputs": [],
   "source": [
    "# Create figure\n",
    "fig = plt.figure(figsize=(17, 15))\n",
    "gs = fig.add_gridspec(2, 6, wspace = 0.05, hspace=0.15)\n",
    "\n",
    "# Graph distribution of level 1 AD\n",
    "ax_sino, ax_histx = sino_hist(\n",
    "                     gs_sino = gs[0,0:5],\n",
    "                     gs2_hist = gs[0,5],\n",
    "                     data=champ_stat,\n",
    "                     x='subclass_1', \n",
    "                     y='AD',\n",
    "                     order = sorted_subclass,\n",
    "                     palette = color)\n",
    "mean_line(data=champ_stat,\n",
    "               y = 'AD',\n",
    "               label = f'Mean Level 1 AD', \n",
    "               ax = ax_sino)\n",
    "mean_line(data=champ_stat,\n",
    "               y = 'AD',\n",
    "               ax = ax_histx)\n",
    "\n",
    "\n",
    "# Graph distribution of level 18 HP\n",
    "ax_sino18, ax_histx18 = sino_hist(\n",
    "                     gs_sino = gs[1,0:5],\n",
    "                     gs2_hist = gs[1,5],\n",
    "                     data=champ_stat,\n",
    "                     x='subclass_1', \n",
    "                     y='AD_18',\n",
    "                     order = sorted_subclass,\n",
    "                     palette = color)\n",
    "mean_line(data=champ_stat,\n",
    "               y = 'AD_18',\n",
    "               label = 'Mean Level 18 AD', \n",
    "               ax = ax_sino18)\n",
    "mean_line(data=champ_stat,\n",
    "               y = 'AD_18',\n",
    "               ax = ax_histx18)\n",
    "\n",
    "\n",
    "# Sett labels and axis\n",
    "ax_sino.set_title('Attack Damage (AD) at Level 1')\n",
    "ax_sino.set_xlabel('')\n",
    "ax_sino.set_ylabel('AD')\n",
    "\n",
    "ax_sino18.set_title('Attack Damage (AD) at Level 18')\n",
    "ax_sino18.set_xlabel('')\n",
    "ax_sino18.set_ylabel('AD')\n",
    "\n",
    "set_xlim(ax_histx, ax_histx18)\n",
    "\n",
    "plt.show()"
   ]
  },
  {
   "cell_type": "markdown",
   "metadata": {},
   "source": [
    "## Attack Speed"
   ]
  },
  {
   "cell_type": "code",
   "execution_count": null,
   "metadata": {
    "scrolled": false
   },
   "outputs": [],
   "source": [
    "# Create figure\n",
    "fig = plt.figure(figsize=(17, 15))\n",
    "gs = fig.add_gridspec(2, 6, wspace = 0.05, hspace=0.15)\n",
    "\n",
    "# Graph distribution of level 1 AS\n",
    "ax_sino, ax_histx = sino_hist(\n",
    "                     gs_sino = gs[0,0:5],\n",
    "                     gs2_hist = gs[0,5],\n",
    "                     data=champ_stat,\n",
    "                     x='subclass_1', \n",
    "                     y='AS',\n",
    "                     order = sorted_subclass,\n",
    "                     palette = color)\n",
    "mean_line(data=champ_stat,\n",
    "               y = 'AS',\n",
    "               label = f'Mean Level 1 AS', \n",
    "               ax = ax_sino)\n",
    "mean_line(data=champ_stat,\n",
    "               y = 'AS',\n",
    "               ax = ax_histx)\n",
    "\n",
    "\n",
    "# Graph distribution of level 18 AS\n",
    "ax_sino18, ax_histx18 = sino_hist(\n",
    "                     gs_sino = gs[1,0:5],\n",
    "                     gs2_hist = gs[1,5],\n",
    "                     data=champ_stat,\n",
    "                     x='subclass_1', \n",
    "                     y='AS_18',\n",
    "                     order = sorted_subclass,\n",
    "                     palette = color)\n",
    "mean_line(data=champ_stat,\n",
    "               y = 'AS_18',\n",
    "               label = f'Mean Level 18 AS', \n",
    "               ax = ax_sino18)\n",
    "mean_line(data=champ_stat,\n",
    "               y = 'AS_18',\n",
    "               ax = ax_histx18)\n",
    "\n",
    "\n",
    "# Sett labels and axis\n",
    "ax_sino.set_title('Attack Speed (AS) at Level 1')\n",
    "ax_sino.set_xlabel('')\n",
    "ax_sino.set_ylabel('AS')\n",
    "\n",
    "ax_sino18.set_title('Attack Speed (AS) at Level 18')\n",
    "ax_sino18.set_xlabel('')\n",
    "ax_sino18.set_ylabel('AS')\n",
    "\n",
    "set_xlim(ax_histx, ax_histx18)\n",
    "\n",
    "plt.show()"
   ]
  },
  {
   "cell_type": "markdown",
   "metadata": {},
   "source": [
    "## Armor"
   ]
  },
  {
   "cell_type": "code",
   "execution_count": null,
   "metadata": {
    "scrolled": false
   },
   "outputs": [],
   "source": [
    "# Create figure\n",
    "fig = plt.figure(figsize=(17, 15))\n",
    "gs = fig.add_gridspec(2, 6, wspace = 0.05, hspace=0.15)\n",
    "\n",
    "# Graph distribution of level 1 AR\n",
    "ax_sino, ax_histx = sino_hist(\n",
    "                     gs_sino = gs[0,0:5],\n",
    "                     gs2_hist = gs[0,5],\n",
    "                     data=champ_stat,\n",
    "                     x='subclass_1', \n",
    "                     y='AR',\n",
    "                     order = sorted_subclass,\n",
    "                     palette = color)\n",
    "mean_line(data=champ_stat,\n",
    "               y = 'AR',\n",
    "               label = f'Mean Level 1 AR', \n",
    "               ax = ax_sino)\n",
    "\n",
    "# Graph distribution of level 18 AR\n",
    "ax_sino18, ax_histx18 = sino_hist(\n",
    "                     gs_sino = gs[1,0:5],\n",
    "                     gs2_hist = gs[1,5],\n",
    "                     data=champ_stat,\n",
    "                     x='subclass_1', \n",
    "                     y='AR_18',\n",
    "                     order = sorted_subclass,\n",
    "                     palette = color)\n",
    "mean_line(data=champ_stat,\n",
    "               y = 'AR_18',\n",
    "               label = 'Mean Level 18 AR', \n",
    "               ax = ax_sino18)\n",
    "\n",
    "# Sett labels and axis\n",
    "ax_sino.set_title('Armor (AR) at Level 1')\n",
    "ax_sino.set_xlabel('')\n",
    "ax_sino.set_ylabel('AR')\n",
    "\n",
    "ax_sino18.set_title('Armor (AR) at Level 18')\n",
    "ax_sino18.set_xlabel('')\n",
    "ax_sino18.set_ylabel('AR')\n",
    "\n",
    "set_xlim(ax_histx, ax_histx18)\n",
    "\n",
    "plt.show()"
   ]
  },
  {
   "cell_type": "markdown",
   "metadata": {},
   "source": [
    "## Magic Resist"
   ]
  },
  {
   "cell_type": "code",
   "execution_count": null,
   "metadata": {
    "scrolled": false
   },
   "outputs": [],
   "source": [
    "# Create figure\n",
    "fig = plt.figure(figsize=(17, 15))\n",
    "gs = fig.add_gridspec(2, 6, wspace = 0.05, hspace=0.15)\n",
    "\n",
    "# Graph distribution of level 1 MR\n",
    "ax_sino, ax_histx = sino_hist(\n",
    "                     gs_sino = gs[0,0:5],\n",
    "                     gs2_hist = gs[0,5],\n",
    "                     data=champ_stat,\n",
    "                     x='subclass_1', \n",
    "                     y='MR',\n",
    "                     order = sorted_subclass,\n",
    "                     palette = color,\n",
    "                     s=2)\n",
    "mean_line(data=champ_stat,\n",
    "               y = 'MR',\n",
    "               label = f'Mean Level 1 MR', \n",
    "               ax = ax_sino)\n",
    "mean_line(data=champ_stat,\n",
    "               y = 'MR',\n",
    "               ax = ax_histx)\n",
    "\n",
    "\n",
    "# Graph distribution of level 18 AR\n",
    "ax_sino18, ax_histx18 = sino_hist(\n",
    "                     gs_sino = gs[1,0:5],\n",
    "                     gs2_hist = gs[1,5],\n",
    "                     data=champ_stat,\n",
    "                     x='subclass_1', \n",
    "                     y='MR_18',\n",
    "                     order = sorted_subclass,\n",
    "                     palette = color,\n",
    "                     s=2)\n",
    "mean_line(data=champ_stat,\n",
    "               y = 'MR_18',\n",
    "               label = 'Mean Level 18 MR', \n",
    "               ax = ax_sino18)\n",
    "mean_line(data=champ_stat,\n",
    "               y = 'MR_18',\n",
    "               ax = ax_histx18)\n",
    "\n",
    "\n",
    "# Sett labels and axis\n",
    "ax_sino.set_title('Magic Resistance (MR) at Level 1')\n",
    "ax_sino.set_xlabel('')\n",
    "ax_sino.set_ylabel('MR')\n",
    "\n",
    "ax_sino18.set_title('Magic Resistance (MR) at Level 18')\n",
    "ax_sino18.set_xlabel('')\n",
    "ax_sino18.set_ylabel('MR')\n",
    "\n",
    "set_xlim(ax_histx, ax_histx18)\n",
    "\n",
    "plt.show()"
   ]
  },
  {
   "cell_type": "code",
   "execution_count": null,
   "metadata": {
    "scrolled": true
   },
   "outputs": [],
   "source": [
    "champ_stat['MR'].value_counts()"
   ]
  },
  {
   "cell_type": "code",
   "execution_count": null,
   "metadata": {
    "scrolled": true
   },
   "outputs": [],
   "source": [
    "champ_stat['MR_18'].value_counts()"
   ]
  },
  {
   "cell_type": "markdown",
   "metadata": {},
   "source": [
    "- Level 1 and Level 18 MR values have bimodal distribution.\n",
    "- Most of the Level 1 MR are either 32 or 30\n",
    "- Most of the Level 18 MR are either 53.25 or 38.50\n",
    "- Marksman and Artillery Share the same MR values from Level 1 to 18\n",
    "- The two dominant values seems to differentiate the 'tanky' classes from the 'squishy' classes"
   ]
  },
  {
   "cell_type": "markdown",
   "metadata": {},
   "source": [
    "## Movement Speed"
   ]
  },
  {
   "cell_type": "code",
   "execution_count": null,
   "metadata": {
    "scrolled": false
   },
   "outputs": [],
   "source": [
    "# Create figure\n",
    "fig = plt.figure(figsize=(17, 15))\n",
    "gs = fig.add_gridspec(2, 6, wspace = 0.05, hspace=0.15)\n",
    "\n",
    "# Graph distribution of level 1 MR\n",
    "ax_sino, ax_histx = sino_hist(\n",
    "                     gs_sino = gs[0,0:5],\n",
    "                     gs2_hist = gs[0,5],\n",
    "                     data=champ_stat,\n",
    "                     x='subclass_1', \n",
    "                     y='MS',\n",
    "                     order = sorted_subclass,\n",
    "                     palette = color,\n",
    "                     s=2)\n",
    "mean_line(data=champ_stat,\n",
    "               y = 'MS',\n",
    "               label = f'Mean MS', \n",
    "               ax = ax_sino)\n",
    "mean_line(data=champ_stat,\n",
    "               y = 'MS',\n",
    "               ax = ax_histx)\n",
    "\n",
    "\n",
    "# Sett labels and axis\n",
    "ax_sino.set_title('Movement Speed (MS)')\n",
    "ax_sino.set_xlabel('')\n",
    "ax_sino.set_ylabel('MS')\n",
    "\n",
    "plt.show()"
   ]
  },
  {
   "cell_type": "markdown",
   "metadata": {},
   "source": [
    "- Movement Speed is roughly normally distributed with population Mean 335.82 and Standard Deviation 8.40\n",
    "- Kled, being the odd man out, has by far the lowest MS with 285."
   ]
  },
  {
   "cell_type": "markdown",
   "metadata": {},
   "source": [
    "## Range"
   ]
  },
  {
   "cell_type": "code",
   "execution_count": null,
   "metadata": {
    "scrolled": false
   },
   "outputs": [],
   "source": [
    "# Create figure\n",
    "fig = plt.figure(figsize=(17, 15))\n",
    "gs = fig.add_gridspec(2, 6, wspace = 0.05, hspace=0.15)\n",
    "\n",
    "# Graph distribution of level 1 MR\n",
    "ax_sino, ax_histx = sino_hist(\n",
    "                     gs_sino = gs[0,0:5],\n",
    "                     gs2_hist = gs[0,5],\n",
    "                     data=champ_stat,\n",
    "                     x='subclass_1', \n",
    "                     y='Range',\n",
    "                     order = sorted_subclass,\n",
    "                     palette = color,\n",
    "                     s=2)\n",
    "mean_line(data=champ_stat,\n",
    "               y = 'Range',\n",
    "               label = f'Mean Range', \n",
    "               ax = ax_sino)\n",
    "mean_line(data=champ_stat,\n",
    "               y = 'Range',\n",
    "               ax = ax_histx)\n",
    "\n",
    "# Mean for ranged and melee\n",
    "mean_line(data=champ_stat[champ_stat['Range'] < 300],\n",
    "               y = 'Range',\n",
    "               label = f'Mean Melee Range', \n",
    "               ax = ax_sino,\n",
    "               color = 'blue')\n",
    "\n",
    "mean_line(data=champ_stat[champ_stat['Range'] >= 300],\n",
    "               y = 'Range',\n",
    "               label = f'Mean Ranged Range', \n",
    "               ax = ax_sino,\n",
    "               color = 'green')\n",
    "\n",
    "\n",
    "mean_line(data=champ_stat[champ_stat['Range'] < 300],\n",
    "               y = 'Range',\n",
    "               ax = ax_histx,\n",
    "               color = 'blue')\n",
    "\n",
    "\n",
    "mean_line(data=champ_stat[champ_stat['Range'] >= 300],\n",
    "               y = 'Range',\n",
    "               ax = ax_histx,\n",
    "               color = 'green')\n",
    "\n",
    "\n",
    "# Sett labels and axis\n",
    "ax_sino.set_title('Range')\n",
    "ax_sino.set_xlabel('')\n",
    "ax_sino.set_ylabel('Range')\n",
    "\n",
    "plt.show()"
   ]
  },
  {
   "cell_type": "code",
   "execution_count": null,
   "metadata": {
    "scrolled": true
   },
   "outputs": [],
   "source": [
    "champ_stat.loc[champ_stat['Range'].between(200, 350), ['Champions', 'Range']]"
   ]
  },
  {
   "cell_type": "code",
   "execution_count": null,
   "metadata": {},
   "outputs": [],
   "source": [
    "champ_stat.loc[champ_stat['Range'].between(200, 350), ['Champions', 'Range']]"
   ]
  },
  {
   "cell_type": "markdown",
   "metadata": {},
   "source": [
    "- We see a bimodal distribution separating the melee and ranged champions. \n",
    "- We will separate melee as under 300 Range and ranged as 300 or above. \n",
    "- Notable rule break, Lilia has range 325 classified as melee and Rakan has range 300 classified as ranged. \n",
    "- Champions with multiple forms (Jayce, Nidalee, Elise) are recorded as their main forms. \n",
    "    - Jayce as Melee \n",
    "    - Nidalee as Ranged\n",
    "    - Elise as Ranged"
   ]
  },
  {
   "cell_type": "markdown",
   "metadata": {},
   "source": [
    "## Rank"
   ]
  },
  {
   "cell_type": "code",
   "execution_count": null,
   "metadata": {},
   "outputs": [],
   "source": [
    "subclass_color = dict(zip(sorted_subclass, color))"
   ]
  },
  {
   "cell_type": "code",
   "execution_count": null,
   "metadata": {
    "scrolled": false
   },
   "outputs": [],
   "source": [
    "stat_gb = champ_stat.groupby('subclass_1').mean()\n",
    "\n",
    "stat_ranked = pd.DataFrame()\n",
    "stat_ranked2 = pd.DataFrame()\n",
    "\n",
    "for s in stat_list:\n",
    "    mean = np.array(stat_gb.sort_values([s, 'subclass_1'], ascending=False)[s]).round(2).astype('U')\n",
    "    subclass = np.array(stat_gb.sort_values([s, 'subclass_1'], ascending=False).index)\n",
    "    stat_ranked[s] = (subclass + ' ' + '(' + mean + ')')\n",
    "    stat_ranked2[s] = subclass"
   ]
  },
  {
   "cell_type": "code",
   "execution_count": null,
   "metadata": {},
   "outputs": [],
   "source": [
    "stat_ranked"
   ]
  }
 ],
 "metadata": {
  "kernelspec": {
   "display_name": "Python 3 (ipykernel)",
   "language": "python",
   "name": "python3"
  },
  "language_info": {
   "codemirror_mode": {
    "name": "ipython",
    "version": 3
   },
   "file_extension": ".py",
   "mimetype": "text/x-python",
   "name": "python",
   "nbconvert_exporter": "python",
   "pygments_lexer": "ipython3",
   "version": "3.9.7"
  }
 },
 "nbformat": 4,
 "nbformat_minor": 4
}
