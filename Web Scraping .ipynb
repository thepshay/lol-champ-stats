{
 "cells": [
  {
   "cell_type": "code",
   "execution_count": 1,
   "metadata": {
    "id": "_54_s3-OIcdi"
   },
   "outputs": [],
   "source": [
    "from bs4 import BeautifulSoup as bs\n",
    "import requests\n",
    "import csv\n",
    "import pandas as pd\n",
    "import numpy as np"
   ]
  },
  {
   "cell_type": "markdown",
   "metadata": {
    "id": "w2plyq5mIcdj"
   },
   "source": [
    "## Get List of Champions"
   ]
  },
  {
   "cell_type": "code",
   "execution_count": 2,
   "metadata": {
    "id": "6MtIjgD0Icdk",
    "scrolled": true
   },
   "outputs": [],
   "source": [
    "r = requests.get('https://leagueoflegends.fandom.com/wiki/List_of_champions').text\n",
    "soup = bs(r)\n",
    "\n",
    "list_champions = soup.find('table', class_='article-table')"
   ]
  },
  {
   "cell_type": "code",
   "execution_count": 3,
   "metadata": {
    "id": "Wadpi2RRIcdl"
   },
   "outputs": [],
   "source": [
    "champ_row = list_champions.tbody.find_all('tr')\n",
    "champ_info = []\n",
    "\n",
    "for index, row in enumerate(champ_row):\n",
    "    try:\n",
    "        if index == 0:\n",
    "            continue\n",
    "        else:\n",
    "            data = {}\n",
    "            table_data = row.find_all('td')\n",
    "            champ = table_data[0].find_all('a')[1]\n",
    "            name, desc = champ.get_text('|', strip=True).split('|')\n",
    "            href = champ['href']\n",
    "            data['name'] = name\n",
    "            data['description'] = desc\n",
    "            data['href'] = href\n",
    "\n",
    "            champ_class = table_data[1]['data-sort-value']\n",
    "            data['class'] = champ_class\n",
    "\n",
    "            release_date = table_data[2].get_text(strip=True)\n",
    "            data['release_date'] = release_date\n",
    "\n",
    "            last_changed = table_data[3].get_text(strip=True)\n",
    "            data['last_changed'] = last_changed\n",
    "\n",
    "            be_cost = table_data[4].get_text(strip=True)\n",
    "            data['be_cost'] = be_cost\n",
    "\n",
    "            rp_cost = table_data[5].get_text(strip=True)\n",
    "            data['rp_cost'] = rp_cost\n",
    "\n",
    "            champ_info.append(data)\n",
    "                \n",
    "    except Exception as e:\n",
    "        print(f'{index} uh-oh')"
   ]
  },
  {
   "cell_type": "code",
   "execution_count": 4,
   "metadata": {
    "id": "AhDz33tWIcdl"
   },
   "outputs": [],
   "source": [
    "keys = champ_info[0].keys()\n",
    "with open('champions.csv', 'w') as f:\n",
    "    writer = csv.DictWriter(f, keys)\n",
    "    writer.writeheader()\n",
    "    writer.writerows(champ_info)\n",
    "    "
   ]
  },
  {
   "cell_type": "code",
   "execution_count": 5,
   "metadata": {
    "id": "TP3XVK5_Icdm",
    "outputId": "86fc87e5-d98b-48be-f894-fcada2a63645"
   },
   "outputs": [
    {
     "data": {
      "text/html": [
       "<div>\n",
       "<style scoped>\n",
       "    .dataframe tbody tr th:only-of-type {\n",
       "        vertical-align: middle;\n",
       "    }\n",
       "\n",
       "    .dataframe tbody tr th {\n",
       "        vertical-align: top;\n",
       "    }\n",
       "\n",
       "    .dataframe thead th {\n",
       "        text-align: right;\n",
       "    }\n",
       "</style>\n",
       "<table border=\"1\" class=\"dataframe\">\n",
       "  <thead>\n",
       "    <tr style=\"text-align: right;\">\n",
       "      <th></th>\n",
       "      <th>name</th>\n",
       "      <th>description</th>\n",
       "      <th>href</th>\n",
       "      <th>class</th>\n",
       "      <th>release_date</th>\n",
       "      <th>last_changed</th>\n",
       "      <th>be_cost</th>\n",
       "      <th>rp_cost</th>\n",
       "    </tr>\n",
       "  </thead>\n",
       "  <tbody>\n",
       "    <tr>\n",
       "      <th>0</th>\n",
       "      <td>Aatrox</td>\n",
       "      <td>the Darkin Blade</td>\n",
       "      <td>/wiki/Aatrox/LoL</td>\n",
       "      <td>Juggernaut</td>\n",
       "      <td>2013-06-13</td>\n",
       "      <td>V11.19</td>\n",
       "      <td>4800</td>\n",
       "      <td>880</td>\n",
       "    </tr>\n",
       "    <tr>\n",
       "      <th>1</th>\n",
       "      <td>Ahri</td>\n",
       "      <td>the Nine-Tailed Fox</td>\n",
       "      <td>/wiki/Ahri/LoL</td>\n",
       "      <td>Burst</td>\n",
       "      <td>2011-12-14</td>\n",
       "      <td>V12.3</td>\n",
       "      <td>3150</td>\n",
       "      <td>790</td>\n",
       "    </tr>\n",
       "    <tr>\n",
       "      <th>2</th>\n",
       "      <td>Akali</td>\n",
       "      <td>the Rogue Assassin</td>\n",
       "      <td>/wiki/Akali/LoL</td>\n",
       "      <td>Assassin</td>\n",
       "      <td>2010-05-11</td>\n",
       "      <td>V11.22</td>\n",
       "      <td>3150</td>\n",
       "      <td>790</td>\n",
       "    </tr>\n",
       "    <tr>\n",
       "      <th>3</th>\n",
       "      <td>Akshan</td>\n",
       "      <td>the Rogue Sentinel</td>\n",
       "      <td>/wiki/Akshan/LoL</td>\n",
       "      <td>Marksman,Assassin</td>\n",
       "      <td>2021-07-22</td>\n",
       "      <td>V12.3</td>\n",
       "      <td>6300</td>\n",
       "      <td>975</td>\n",
       "    </tr>\n",
       "    <tr>\n",
       "      <th>4</th>\n",
       "      <td>Alistar</td>\n",
       "      <td>the Minotaur</td>\n",
       "      <td>/wiki/Alistar/LoL</td>\n",
       "      <td>Vanguard</td>\n",
       "      <td>2009-02-21</td>\n",
       "      <td>V11.11</td>\n",
       "      <td>1350</td>\n",
       "      <td>585</td>\n",
       "    </tr>\n",
       "  </tbody>\n",
       "</table>\n",
       "</div>"
      ],
      "text/plain": [
       "      name          description               href              class  \\\n",
       "0   Aatrox     the Darkin Blade   /wiki/Aatrox/LoL         Juggernaut   \n",
       "1     Ahri  the Nine-Tailed Fox     /wiki/Ahri/LoL              Burst   \n",
       "2    Akali   the Rogue Assassin    /wiki/Akali/LoL           Assassin   \n",
       "3   Akshan   the Rogue Sentinel   /wiki/Akshan/LoL  Marksman,Assassin   \n",
       "4  Alistar         the Minotaur  /wiki/Alistar/LoL           Vanguard   \n",
       "\n",
       "  release_date last_changed  be_cost  rp_cost  \n",
       "0   2013-06-13       V11.19     4800      880  \n",
       "1   2011-12-14        V12.3     3150      790  \n",
       "2   2010-05-11       V11.22     3150      790  \n",
       "3   2021-07-22        V12.3     6300      975  \n",
       "4   2009-02-21       V11.11     1350      585  "
      ]
     },
     "execution_count": 5,
     "metadata": {},
     "output_type": "execute_result"
    }
   ],
   "source": [
    "df = pd.read_csv('champions.csv')\n",
    "df.head()"
   ]
  },
  {
   "cell_type": "code",
   "execution_count": 6,
   "metadata": {
    "id": "0Ph21mDTIcdm",
    "outputId": "c96a6807-0176-4afc-ded9-0307a5a42b1f"
   },
   "outputs": [
    {
     "data": {
      "text/plain": [
       "(158, 8)"
      ]
     },
     "execution_count": 6,
     "metadata": {},
     "output_type": "execute_result"
    }
   ],
   "source": [
    "df.shape"
   ]
  },
  {
   "cell_type": "code",
   "execution_count": 7,
   "metadata": {
    "id": "X5kerIhKIcdn"
   },
   "outputs": [],
   "source": [
    "r = requests.get('https://leagueoflegends.fandom.com/wiki/List_of_champions/Base_statistics').text\n",
    "soup = bs(r)\n",
    "stat_box = soup.find('table', class_='sortable wikitable sticky-header')\n",
    "\n",
    "stat_table = stat_box.find('tbody')\n",
    "champion = stat_table.find_all('tr')"
   ]
  },
  {
   "cell_type": "code",
   "execution_count": 8,
   "metadata": {
    "id": "B5MIXDXwIcdn"
   },
   "outputs": [],
   "source": [
    "keys = []\n",
    "\n",
    "for i in champion[0]:\n",
    "    keys.append(i.get_text())"
   ]
  },
  {
   "cell_type": "code",
   "execution_count": 9,
   "metadata": {
    "id": "OFYJSsc3Icdo",
    "scrolled": true
   },
   "outputs": [],
   "source": [
    "def populate_dict(keys, value):\n",
    "    data = {}\n",
    "    for i, keys in enumerate(keys):\n",
    "        data[keys] = value[i].get_text()\n",
    "    return data\n",
    "\n",
    "champ_stat = []\n",
    "for index, c in enumerate(champion):\n",
    "    if index == 0:\n",
    "        continue\n",
    "    stat = c.find_all('td')    \n",
    "    stat_dict = populate_dict(keys, stat)\n",
    "    champ_stat.append(stat_dict)"
   ]
  },
  {
   "cell_type": "code",
   "execution_count": 10,
   "metadata": {
    "id": "o49duaQPIcdo"
   },
   "outputs": [],
   "source": [
    "with open('champion_stats.csv', 'w') as f:\n",
    "    writer = csv.DictWriter(f, keys)\n",
    "    writer.writeheader()\n",
    "    writer.writerows(champ_stat)"
   ]
  },
  {
   "cell_type": "code",
   "execution_count": 11,
   "metadata": {
    "id": "CrKA6HbKIcdo",
    "outputId": "f2e500b2-3f2e-4b54-f2eb-535bc46aefcb"
   },
   "outputs": [
    {
     "data": {
      "text/html": [
       "<div>\n",
       "<style scoped>\n",
       "    .dataframe tbody tr th:only-of-type {\n",
       "        vertical-align: middle;\n",
       "    }\n",
       "\n",
       "    .dataframe tbody tr th {\n",
       "        vertical-align: top;\n",
       "    }\n",
       "\n",
       "    .dataframe thead th {\n",
       "        text-align: right;\n",
       "    }\n",
       "</style>\n",
       "<table border=\"1\" class=\"dataframe\">\n",
       "  <thead>\n",
       "    <tr style=\"text-align: right;\">\n",
       "      <th></th>\n",
       "      <th>Champions</th>\n",
       "      <th>HP</th>\n",
       "      <th>HP+</th>\n",
       "      <th>HP5</th>\n",
       "      <th>HP5+</th>\n",
       "      <th>MP</th>\n",
       "      <th>MP+</th>\n",
       "      <th>MP5</th>\n",
       "      <th>MP5+</th>\n",
       "      <th>AD</th>\n",
       "      <th>AD+</th>\n",
       "      <th>AS</th>\n",
       "      <th>AS+</th>\n",
       "      <th>AR</th>\n",
       "      <th>AR+</th>\n",
       "      <th>MR</th>\n",
       "      <th>MR+</th>\n",
       "      <th>MS</th>\n",
       "      <th>Range</th>\n",
       "    </tr>\n",
       "  </thead>\n",
       "  <tbody>\n",
       "    <tr>\n",
       "      <th>0</th>\n",
       "      <td>Aatrox</td>\n",
       "      <td>580.0</td>\n",
       "      <td>90</td>\n",
       "      <td>3.00</td>\n",
       "      <td>1.00</td>\n",
       "      <td>0.0</td>\n",
       "      <td>0.0</td>\n",
       "      <td>0.000</td>\n",
       "      <td>0.0</td>\n",
       "      <td>60.0</td>\n",
       "      <td>5.00</td>\n",
       "      <td>0.651</td>\n",
       "      <td>+2.5%</td>\n",
       "      <td>38.0</td>\n",
       "      <td>3.25</td>\n",
       "      <td>32.0</td>\n",
       "      <td>1.25</td>\n",
       "      <td>345</td>\n",
       "      <td>175</td>\n",
       "    </tr>\n",
       "    <tr>\n",
       "      <th>1</th>\n",
       "      <td>Ahri</td>\n",
       "      <td>500.0</td>\n",
       "      <td>82</td>\n",
       "      <td>2.50</td>\n",
       "      <td>0.60</td>\n",
       "      <td>418.0</td>\n",
       "      <td>25.0</td>\n",
       "      <td>8.000</td>\n",
       "      <td>0.8</td>\n",
       "      <td>53.0</td>\n",
       "      <td>3.00</td>\n",
       "      <td>0.668</td>\n",
       "      <td>+2%</td>\n",
       "      <td>18.0</td>\n",
       "      <td>3.50</td>\n",
       "      <td>30.0</td>\n",
       "      <td>0.50</td>\n",
       "      <td>330</td>\n",
       "      <td>550</td>\n",
       "    </tr>\n",
       "    <tr>\n",
       "      <th>2</th>\n",
       "      <td>Akali</td>\n",
       "      <td>500.0</td>\n",
       "      <td>105</td>\n",
       "      <td>9.00</td>\n",
       "      <td>0.90</td>\n",
       "      <td>200.0</td>\n",
       "      <td>0.0</td>\n",
       "      <td>50.000</td>\n",
       "      <td>0.0</td>\n",
       "      <td>62.0</td>\n",
       "      <td>3.30</td>\n",
       "      <td>0.625</td>\n",
       "      <td>+3.2%</td>\n",
       "      <td>23.0</td>\n",
       "      <td>3.50</td>\n",
       "      <td>37.0</td>\n",
       "      <td>1.25</td>\n",
       "      <td>345</td>\n",
       "      <td>125</td>\n",
       "    </tr>\n",
       "    <tr>\n",
       "      <th>3</th>\n",
       "      <td>Akshan</td>\n",
       "      <td>560.0</td>\n",
       "      <td>90</td>\n",
       "      <td>3.75</td>\n",
       "      <td>0.65</td>\n",
       "      <td>350.0</td>\n",
       "      <td>40.0</td>\n",
       "      <td>8.175</td>\n",
       "      <td>0.7</td>\n",
       "      <td>52.0</td>\n",
       "      <td>3.50</td>\n",
       "      <td>0.638</td>\n",
       "      <td>+4%</td>\n",
       "      <td>26.0</td>\n",
       "      <td>3.00</td>\n",
       "      <td>30.0</td>\n",
       "      <td>0.50</td>\n",
       "      <td>330</td>\n",
       "      <td>500</td>\n",
       "    </tr>\n",
       "    <tr>\n",
       "      <th>4</th>\n",
       "      <td>Alistar</td>\n",
       "      <td>600.0</td>\n",
       "      <td>106</td>\n",
       "      <td>8.50</td>\n",
       "      <td>0.85</td>\n",
       "      <td>350.0</td>\n",
       "      <td>40.0</td>\n",
       "      <td>8.500</td>\n",
       "      <td>0.8</td>\n",
       "      <td>62.0</td>\n",
       "      <td>3.75</td>\n",
       "      <td>0.625</td>\n",
       "      <td>+2.125%</td>\n",
       "      <td>44.0</td>\n",
       "      <td>3.50</td>\n",
       "      <td>32.0</td>\n",
       "      <td>1.25</td>\n",
       "      <td>330</td>\n",
       "      <td>125</td>\n",
       "    </tr>\n",
       "  </tbody>\n",
       "</table>\n",
       "</div>"
      ],
      "text/plain": [
       "  Champions     HP  HP+   HP5  HP5+     MP   MP+     MP5  MP5+    AD   AD+  \\\n",
       "0    Aatrox  580.0   90  3.00  1.00    0.0   0.0   0.000   0.0  60.0  5.00   \n",
       "1      Ahri  500.0   82  2.50  0.60  418.0  25.0   8.000   0.8  53.0  3.00   \n",
       "2     Akali  500.0  105  9.00  0.90  200.0   0.0  50.000   0.0  62.0  3.30   \n",
       "3    Akshan  560.0   90  3.75  0.65  350.0  40.0   8.175   0.7  52.0  3.50   \n",
       "4   Alistar  600.0  106  8.50  0.85  350.0  40.0   8.500   0.8  62.0  3.75   \n",
       "\n",
       "      AS      AS+    AR   AR+    MR   MR+   MS  Range  \n",
       "0  0.651    +2.5%  38.0  3.25  32.0  1.25  345    175  \n",
       "1  0.668      +2%  18.0  3.50  30.0  0.50  330    550  \n",
       "2  0.625    +3.2%  23.0  3.50  37.0  1.25  345    125  \n",
       "3  0.638      +4%  26.0  3.00  30.0  0.50  330    500  \n",
       "4  0.625  +2.125%  44.0  3.50  32.0  1.25  330    125  "
      ]
     },
     "execution_count": 11,
     "metadata": {},
     "output_type": "execute_result"
    }
   ],
   "source": [
    "df = pd.read_csv('champion_stats.csv')\n",
    "df.head()"
   ]
  },
  {
   "cell_type": "code",
   "execution_count": 12,
   "metadata": {
    "id": "2dakiz1zIcdp",
    "outputId": "775045ee-c96e-4b51-e3f0-a6170816d8bf"
   },
   "outputs": [
    {
     "data": {
      "text/plain": [
       "(160, 19)"
      ]
     },
     "execution_count": 12,
     "metadata": {},
     "output_type": "execute_result"
    }
   ],
   "source": [
    "df.shape"
   ]
  },
  {
   "cell_type": "code",
   "execution_count": null,
   "metadata": {
    "id": "2gQNz9mxIcdp"
   },
   "outputs": [],
   "source": []
  },
  {
   "cell_type": "code",
   "execution_count": null,
   "metadata": {
    "id": "OWFvW05fIcdp"
   },
   "outputs": [],
   "source": []
  }
 ],
 "metadata": {
  "colab": {
   "name": "Web Scraping .ipynb",
   "provenance": []
  },
  "kernelspec": {
   "display_name": "Python 3 (ipykernel)",
   "language": "python",
   "name": "python3"
  },
  "language_info": {
   "codemirror_mode": {
    "name": "ipython",
    "version": 3
   },
   "file_extension": ".py",
   "mimetype": "text/x-python",
   "name": "python",
   "nbconvert_exporter": "python",
   "pygments_lexer": "ipython3",
   "version": "3.9.7"
  }
 },
 "nbformat": 4,
 "nbformat_minor": 1
}
